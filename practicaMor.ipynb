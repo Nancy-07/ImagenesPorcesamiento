{
 "cells": [
  {
   "cell_type": "code",
   "execution_count": 1,
   "metadata": {},
   "outputs": [],
   "source": [
    "from PIL import Image\n",
    "import numpy as np\n",
    "import matplotlib.pyplot as plt"
   ]
  },
  {
   "cell_type": "code",
   "execution_count": 2,
   "metadata": {},
   "outputs": [],
   "source": [
    "fondof = Image.open('morgana.jpg')\n",
    "imgOri = Image.open(\"morgana.jpg\")\n",
    "#fondo = Image.open(\"fondof2.jpg\")"
   ]
  },
  {
   "cell_type": "code",
   "execution_count": 3,
   "metadata": {},
   "outputs": [],
   "source": [
    "#detectar objetos de un fondo dado\n",
    "arrM = np.array(imgOri)\n",
    "newarr= np.copy(arrM)\n",
    "promfondo =np.array(fondof)\n",
    "for k in range(fondof.size[0]-1):\n",
    "   for c in range(fondof.size[1]-1):\n",
    "     newarr[c][k][0] = abs ( arrM[c][k][0] - promfondo[c][k][0])\n",
    "     newarr[c][k][1] = abs ( arrM[c][k][1] - promfondo[c][k][1])\n",
    "     newarr[c][k][2] = abs ( arrM[c][k][2] - promfondo[c][k][2])\n",
    "     if (newarr[c][k][0]>=255):\n",
    "       newarr[c][k][0] =255\n",
    "     elif(newarr[c][k][1]>=255):\n",
    "      newarr[c][k][1] =255\n",
    "     elif(newarr[c][k][2]>=255):\n",
    "      newarr[c][k][2] =255\n",
    "     if (newarr[c][k][0]<=0):\n",
    "      newarr[c][k][0] = 0\n",
    "     elif(newarr[c][k][1])<=0:\n",
    "      newarr[c][k][1] = 0\n",
    "     elif(newarr[c][k][2])<=0:\n",
    "      newarr[c][k][2] = 0\n",
    "    \n",
    "res = Image.fromarray(newarr)\n",
    "res.show()"
   ]
  },
  {
   "cell_type": "code",
   "execution_count": 4,
   "metadata": {},
   "outputs": [],
   "source": [
    "img = res.convert('L')\n",
    "pixels = img.getdata()\n",
    "array_px = []\n",
    "for pixel in pixels:\n",
    "    if pixel > 128:\n",
    "        array_px.append(255)\n",
    "    else:\n",
    "        array_px.append(0)\n",
    "img_umbral = Image.new('L', img.size)\n",
    "img_umbral.putdata(array_px)\n",
    "img_umbral.show()\n",
    "img_umbral.save(\"binario.jpg\")\n"
   ]
  },
  {
   "cell_type": "code",
   "execution_count": 5,
   "metadata": {},
   "outputs": [],
   "source": [
    "\n",
    "binario =Image.open('binario.jpg')\n",
    "inicio =np.array(binario)\n",
    "kernel = np.ones((3,3),np.uint8)\n",
    "\n",
    "\n",
    "def dilatacion(A, B):\n",
    "    m, n = A.shape\n",
    "    p, q = B.shape\n",
    "    C = np.zeros((m, n))\n",
    "\n",
    "    for i in range(m):\n",
    "        for j in range(n):\n",
    "            for k in range(p):\n",
    "                for l in range(q):\n",
    "                    if B[k, l] == 1 and i+k-p//2 >= 0 and i+k-p//2 < m and j+l-q//2 >= 0 and j+l-q//2 < n:\n",
    "                        C[i, j] = max(C[i, j], A[i+k-p//2, j+l-q//2])\n",
    "                        \n",
    "\n",
    "    return C\n",
    "\n",
    "ejemplo = dilatacion(inicio,kernel)\n",
    "Image.fromarray(np.uint8(ejemplo)).save('kernel_5_1.jpg')\n",
    "#res = Image.fromarray(ejemplo)\n",
    "#res.save('ejemplo123.jpg')\n",
    "#res.show()\n"
   ]
  },
  {
   "cell_type": "code",
   "execution_count": 6,
   "metadata": {},
   "outputs": [
    {
     "ename": "FileNotFoundError",
     "evalue": "[Errno 2] No such file or directory: 'resultado_123.jpg'",
     "output_type": "error",
     "traceback": [
      "\u001b[1;31m---------------------------------------------------------------------------\u001b[0m",
      "\u001b[1;31mFileNotFoundError\u001b[0m                         Traceback (most recent call last)",
      "Cell \u001b[1;32mIn[6], line 18\u001b[0m\n\u001b[0;32m     15\u001b[0m     \u001b[39mreturn\u001b[39;00m resultado\n\u001b[0;32m     17\u001b[0m \u001b[39m# Ejemplo de uso\u001b[39;00m\n\u001b[1;32m---> 18\u001b[0m imagen \u001b[39m=\u001b[39m np\u001b[39m.\u001b[39marray(Image\u001b[39m.\u001b[39;49mopen(\u001b[39m'\u001b[39;49m\u001b[39mresultado_123.jpg\u001b[39;49m\u001b[39m'\u001b[39;49m))\n\u001b[0;32m     19\u001b[0m kernel \u001b[39m=\u001b[39m np\u001b[39m.\u001b[39mones((\u001b[39m3\u001b[39m,\u001b[39m3\u001b[39m), np\u001b[39m.\u001b[39muint8)\n\u001b[0;32m     20\u001b[0m resultado \u001b[39m=\u001b[39m erosion(imagen, kernel)\n",
      "File \u001b[1;32mc:\\Users\\nanga\\AppData\\Local\\Programs\\Python\\Python311\\Lib\\site-packages\\PIL\\Image.py:3236\u001b[0m, in \u001b[0;36mopen\u001b[1;34m(fp, mode, formats)\u001b[0m\n\u001b[0;32m   3233\u001b[0m     filename \u001b[39m=\u001b[39m fp\n\u001b[0;32m   3235\u001b[0m \u001b[39mif\u001b[39;00m filename:\n\u001b[1;32m-> 3236\u001b[0m     fp \u001b[39m=\u001b[39m builtins\u001b[39m.\u001b[39;49mopen(filename, \u001b[39m\"\u001b[39;49m\u001b[39mrb\u001b[39;49m\u001b[39m\"\u001b[39;49m)\n\u001b[0;32m   3237\u001b[0m     exclusive_fp \u001b[39m=\u001b[39m \u001b[39mTrue\u001b[39;00m\n\u001b[0;32m   3239\u001b[0m \u001b[39mtry\u001b[39;00m:\n",
      "\u001b[1;31mFileNotFoundError\u001b[0m: [Errno 2] No such file or directory: 'resultado_123.jpg'"
     ]
    }
   ],
   "source": [
    "import numpy as np\n",
    "from PIL import Image\n",
    "\n",
    "def erosion(imagen, kernel):\n",
    "    altura, ancho = imagen.shape\n",
    "    m, n = kernel.shape\n",
    "    resultado = np.zeros((altura, ancho))\n",
    "    \n",
    "    for i in range(m//2, altura-m//2):\n",
    "        for j in range(n//2, ancho-n//2):\n",
    "            # Realizar la operación de erosión\n",
    "            if (imagen[i-m//2:i+m//2+1, j-n//2:j+n//2+1] * kernel).min() >= 1:\n",
    "                resultado[i, j] = 1\n",
    "    \n",
    "    return resultado\n",
    "\n",
    "# Ejemplo de uso\n",
    "imagen = np.array(Image.open('resultado_123.jpg'))\n",
    "kernel = np.ones((3,3), np.uint8)\n",
    "resultado = erosion(imagen, kernel)\n",
    "#res = Image.fromarray(resultado)\n",
    "#res.show()\n",
    "#Es el primer intento de cerrado\n",
    "Image.fromarray(np.uint8(resultado*255)).save('kernel_5_2.jpg')\n",
    "\n"
   ]
  },
  {
   "cell_type": "code",
   "execution_count": null,
   "metadata": {},
   "outputs": [],
   "source": [
    "def cerrado(A, B):\n",
    "    C = dilatacion(A, B)\n",
    "    D = erosion(C, B)\n",
    "    return D\n",
    "    \n",
    "resultados = cerrado(inicio,kernel)\n",
    "Image.fromarray(np.uint8(resultados*255)).save('cerrado_5_1.jpg')\n"
   ]
  },
  {
   "cell_type": "code",
   "execution_count": null,
   "metadata": {},
   "outputs": [],
   "source": [
    "def abierto(A, B):\n",
    "    C = erosion(A, B)\n",
    "    D = dilatacion(C, B)\n",
    "    return D\n",
    "    \n",
    "resultados = abierto(inicio,kernel)\n",
    "Image.fromarray(np.uint8(resultados*255)).save('abierto_5_1.jpg')"
   ]
  },
  {
   "cell_type": "code",
   "execution_count": null,
   "metadata": {},
   "outputs": [],
   "source": [
    "kernel = np.ones((3,3),np.uint8)\n",
    "cerr = cerrado(inicio,kernel)\n",
    "cerr2= abierto(cerr,kernel)\n",
    "cerr3= cerrado(cerr2,kernel)\n",
    "Image.fromarray(np.uint8(cerr2*255)).save('cerrabiercerr.jpg')"
   ]
  },
  {
   "cell_type": "code",
   "execution_count": null,
   "metadata": {},
   "outputs": [],
   "source": [
    "def clear (A,B):\n",
    "    C = cerrado(A, B)\n",
    "    D = cerrado(C, B)\n",
    "    E = abierto(D, B)\n",
    "    F = erosion(E, B)\n",
    "    G =erosion(F ,B)\n",
    "    return G\n",
    "\n",
    "primera = clear(inicio,kernel)\n",
    "Image.fromarray(np.uint8(resultados*255)).save('clear_5_1.jpg')"
   ]
  },
  {
   "cell_type": "code",
   "execution_count": null,
   "metadata": {},
   "outputs": [],
   "source": [
    "imgOri = Image.open(\"goma.jpg\")\n",
    "notc = Image.open(\"abierto_5_1.jpg\")\n",
    "\n",
    "imgris = imgOri.convert(\"L\")\n",
    "and1 = Image.new(\"RGB\", imgOri.size)\n",
    "for x in range(imgOri.width):\n",
    "    for y in range(imgOri.height):\n",
    "        px_cnot = notc.getpixel((x, y))\n",
    "        if px_cnot == 255:\n",
    "            continue\n",
    "        elif px_cnot == 0:\n",
    "            px_gris = imgris.getpixel((x, y))\n",
    "            px_color = imgOri.getpixel((x, y))\n",
    "            nuevo_pixel = (px_gris, px_color[1], px_color[2])\n",
    "            and1.putpixel((x, y), nuevo_pixel)\n",
    "       \n",
    "and1.show()"
   ]
  },
  {
   "cell_type": "code",
   "execution_count": null,
   "metadata": {},
   "outputs": [],
   "source": [
    "fondo = Image.open(\"fondoff.jpg\")\n",
    "img_umbral =Image.open('binario.jpg')\n",
    "\n",
    "fondo_gr = fondo.convert(\"L\")\n",
    "and2 = Image.new(\"RGB\", fondo.size)\n",
    "for x in range(fondo.width):\n",
    "    for y in range(fondo.height):\n",
    "        pixel_bn = img_umbral.getpixel((x, y))\n",
    "        if pixel_bn == 0:\n",
    "            continue\n",
    "        elif pixel_bn == 255:\n",
    "            px_gris = fondo_gr.getpixel((x, y))\n",
    "            px_color = fondo.getpixel((x, y))\n",
    "            cambio_fondo = (px_gris, px_color[1], px_color[2])\n",
    "            and2.putpixel((x, y), cambio_fondo)\n",
    "and2.show()"
   ]
  },
  {
   "cell_type": "code",
   "execution_count": null,
   "metadata": {},
   "outputs": [],
   "source": [
    "resultado = Image.new(\"RGB\", and1.size)\n",
    "for x in range(and1.width):\n",
    "    for y in range(and1.height):\n",
    "        px_and1 = and1.getpixel((x, y))\n",
    "        px_and2 = and2.getpixel((x, y))\n",
    "        if px_and1 == (0, 0, 0):\n",
    "            resultado.putpixel((x, y), px_and2)\n",
    "        else:\n",
    "            resultado.putpixel((x, y), px_and1)\n",
    "resultado.show()"
   ]
  },
  {
   "cell_type": "code",
   "execution_count": null,
   "metadata": {},
   "outputs": [],
   "source": [
    "def erosion2(imagen, kernel):\n",
    "    altura, ancho = imagen.shape\n",
    "    m, n = kernel.shape\n",
    "    resultado = np.zeros((altura, ancho))\n",
    "\n",
    "    for i in range(m//2, altura-m//2):\n",
    "        for j in range(n//2, ancho-n//2):\n",
    "            # Realizar la operación de erosión\n",
    "            if (imagen[i-m//2:i+m//2+1, j-n//2:j+n//2+1] or kernel).all() == 1:\n",
    "                resultado[i, j] = 1\n",
    "\n",
    "    return resultado\n",
    "ejemplo2 = erosion2(inicio,kernel)\n",
    "rest = Image.fromarray(ejemplo2)\n",
    "rest.show()"
   ]
  },
  {
   "cell_type": "code",
   "execution_count": null,
   "metadata": {},
   "outputs": [],
   "source": [
    "import cv2\n",
    "\n",
    "# Carga la imagen en escala de grises\n",
    "imagen = cv2.imread('morgana.jpg', cv2.IMREAD_GRAYSCALE)\n",
    "\n",
    "# Aplica un filtro Gaussiano para reducir el ruido\n",
    "imagen_filtrada = cv2.GaussianBlur(imagen, (5, 5), 0)\n",
    "\n",
    "# Aplica el detector de bordes de Canny\n",
    "bordes = cv2.Canny(imagen_filtrada, 100, 200)\n",
    "\n",
    "# Muestra los bordes en una ventana\n",
    "cv2.imshow('Bordes', bordes)\n",
    "\n",
    "# Espera a que se presione una tecla\n",
    "cv2.waitKey(0)\n",
    "\n",
    "# Cierra todas las ventanas\n",
    "cv2.destroyAllWindows()\n"
   ]
  },
  {
   "cell_type": "code",
   "execution_count": null,
   "metadata": {},
   "outputs": [],
   "source": [
    "import cv2\n",
    "\n",
    "# Carga la imagen en escala de grises\n",
    "imagen = cv2.imread('morgana.jpg', cv2.IMREAD_GRAYSCALE)\n",
    "\n",
    "# Aplica un filtro Gaussiano para reducir el ruido\n",
    "imagen_filtrada = cv2.GaussianBlur(imagen, (5, 5), 0)\n",
    "\n",
    "# Aplica el umbral adaptativo de Otsu\n",
    "_, umbralizada = cv2.threshold(imagen_filtrada, 0, 255, cv2.THRESH_BINARY_INV + cv2.THRESH_OTSU)\n",
    "\n",
    "# Encuentra los contornos en la imagen umbralizada\n",
    "contornos, jerarquia = cv2.findContours(umbralizada, cv2.RETR_TREE, cv2.CHAIN_APPROX_SIMPLE)\n",
    "\n",
    "# Dibuja los contornos en una copia de la imagen original\n",
    "imagen_con_contornos = cv2.drawContours(imagen.copy(), contornos, -1, (0, 0, 255), 2)\n",
    "\n",
    "# Guarda la imagen con los contornos en un archivo\n",
    "cv2.imwrite('siluetas.jpg', imagen_con_contornos)\n",
    "\n",
    "# Muestra la imagen con los contornos en una ventana\n",
    "cv2.imshow('Siluetas', imagen_con_contornos)\n",
    "\n",
    "# Espera a que se presione una tecla\n",
    "cv2.waitKey(0)\n",
    "\n",
    "# Cierra todas las ventanas\n",
    "cv2.destroyAllWindows()\n"
   ]
  },
  {
   "cell_type": "code",
   "execution_count": null,
   "metadata": {},
   "outputs": [],
   "source": [
    "#alterar el tamaño de la imagen\n",
    "from PIL import Image\n",
    "\n",
    "# Carga la imagen\n",
    "imagen = Image.open('20230316_134638.jpg')\n",
    "\n",
    "# Redimensiona la imagen\n",
    "nuevo_ancho = 200\n",
    "proporcion = nuevo_ancho / imagen.width\n",
    "nuevo_alto = int(imagen.height * proporcion)\n",
    "imagen_redimensionada = imagen.resize((nuevo_ancho, nuevo_alto))\n",
    "\n",
    "# Guarda la imagen redimensionada\n",
    "imagen_redimensionada.save('fondoP.jpg')\n"
   ]
  }
 ],
 "metadata": {
  "kernelspec": {
   "display_name": "Python 3",
   "language": "python",
   "name": "python3"
  },
  "language_info": {
   "codemirror_mode": {
    "name": "ipython",
    "version": 3
   },
   "file_extension": ".py",
   "mimetype": "text/x-python",
   "name": "python",
   "nbconvert_exporter": "python",
   "pygments_lexer": "ipython3",
   "version": "3.11.2"
  },
  "orig_nbformat": 4
 },
 "nbformat": 4,
 "nbformat_minor": 2
}
