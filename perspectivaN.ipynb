{
 "cells": [
  {
   "cell_type": "code",
   "execution_count": 1,
   "metadata": {},
   "outputs": [],
   "source": [
    "# from PIL import Image\n",
    "\n",
    "# # Cargar la imagen\n",
    "# img = Image.open('imagen_original.jpeg')\n",
    "\n",
    "# # Definir la matriz de transformación de perspectiva\n",
    "# M = [[1.5, 0.5, -100], [-0.5, 1.5, -100], [0, 0.002, 1]]\n",
    "\n",
    "# # Obtener las dimensiones de la imagen original\n",
    "# w, h = img.size\n",
    "\n",
    "# # Crear una nueva imagen vacía del mismo tamaño que la imagen original\n",
    "# img_transformada = Image.new('RGB', (w, h))\n",
    "\n",
    "# # Recorrer cada píxel de la imagen transformada\n",
    "# for x_out in range(w):\n",
    "#     for y_out in range(h):\n",
    "        \n",
    "#         # Aplicar la matriz de transformación inversa al píxel actual\n",
    "#         x_in = int((M[0][0]*x_out + M[0][1]*y_out + M[0][2]) / (M[2][0]*x_out + M[2][1]*y_out + M[2][2]))\n",
    "#         y_in = int((M[1][0]*x_out + M[1][1]*y_out + M[1][2]) / (M[2][0]*x_out + M[2][1]*y_out + M[2][2]))\n",
    "        \n",
    "#         # Si el píxel transformado se encuentra dentro de los límites de la imagen original,\n",
    "#         # copiar el color del píxel correspondiente en la imagen original a la imagen transformada\n",
    "#         if x_in >= 0 and x_in < w and y_in >= 0 and y_in < h:\n",
    "#             img_transformada.putpixel((x_out, y_out), img.getpixel((x_in, y_in)))\n",
    "            \n",
    "# # Guardar la imagen transformada\n",
    "# img_transformada.save('imagen_transformada.jpg')\n"
   ]
  },
  {
   "attachments": {},
   "cell_type": "markdown",
   "metadata": {},
   "source": [
    "Para comenzar se requeire conocer las coordenadas de los puntos de la hoja blanca, con la finalidad de obtener los datos de entrada de la imagen "
   ]
  },
  {
   "cell_type": "code",
   "execution_count": 15,
   "metadata": {},
   "outputs": [
    {
     "name": "stdout",
     "output_type": "stream",
     "text": [
      "[[213, 450]]\n",
      "[[213, 450], [469, 425]]\n",
      "[[213, 450], [469, 425], [210, 644]]\n",
      "[[213, 450], [469, 425], [210, 644], [480, 647]]\n"
     ]
    }
   ],
   "source": [
    "import cv2\n",
    "import numpy as np\n",
    "\n",
    "def clics(event,x,y,flags,param):\n",
    "\tglobal puntos\n",
    "\tif event == cv2.EVENT_LBUTTONDOWN:\n",
    "\t\tcv2.circle(imagen,(x,y),5,(0,255,0),2)\n",
    "\t\tpuntos.append([x,y])\n",
    "\t\tprint(puntos)\n",
    "\n",
    "def uniendo4puntos(puntos):\n",
    "\tcv2.line(imagen,tuple(puntos[0]),tuple(puntos[1]),(255,0,0),1)\n",
    "\tcv2.line(imagen,tuple(puntos[0]),tuple(puntos[2]),(255,0,0),1)\n",
    "\tcv2.line(imagen,tuple(puntos[2]),tuple(puntos[3]),(255,0,0),1)\n",
    "\tcv2.line(imagen,tuple(puntos[1]),tuple(puntos[3]),(255,0,0),1)\n",
    "\n",
    "puntos = []\n",
    "imagen = cv2.imread('imagen_original.jpeg')\n",
    "aux = imagen.copy()\n",
    "cv2.namedWindow('Imagen')\n",
    "cv2.setMouseCallback('Imagen',clics)\n",
    "\n",
    "while True:\n",
    "\n",
    "\tif len(puntos) == 4:\n",
    "\t\tuniendo4puntos(puntos)\n",
    "\t\tpts1 = np.float32([puntos])\n",
    "\t\tpts2 = np.float32([[0,0], [1024,0], [0,768], [1024,768]])\n",
    "\n",
    "\t\tM = cv2.getPerspectiveTransform(pts1,pts2)\n",
    "\t\tdst = cv2.warpPerspective(imagen, M, (480,300))\n",
    "\n",
    "\t\tcv2.imshow('dst', dst)\n",
    "\tcv2.imshow('Imagen',imagen)\n",
    "\t\n",
    "\tk = cv2.waitKey(1) & 0xFF\n",
    "\tif k == ord('n'):\n",
    "\t\timagen = aux.copy()\n",
    "\t\tpuntos = []\n",
    "\t\t\n",
    "\telif k == 27:\n",
    "\t\tbreak\n",
    "\n",
    "cv2.destroyAllWindows()"
   ]
  },
  {
   "attachments": {},
   "cell_type": "markdown",
   "metadata": {},
   "source": [
    "Se pretende obtener los valores de las constantes a mediante operaciones matriciales como la traspuesta, la inversa y la multiplicación de las matrices.\n",
    "1. Obtención de la transpuesta\n",
    "2. Obtención de la inevrsa de una matriz\n",
    "3. Obtención de la multiplicación de dos matrices"
   ]
  },
  {
   "cell_type": "code",
   "execution_count": 3,
   "metadata": {},
   "outputs": [],
   "source": [
    "#Se cargan las librearias \n",
    "from PIL import Image\n",
    "import numpy as np\n",
    "import matplotlib.pyplot as plt\n",
    "import cv2\n",
    "\n",
    "#Se carga el fondo que tiene el panel y la imagen que se va a proyectar\n",
    "fondo = Image.open(\"fondoPerspectiva.jpg\")\n",
    "imagen = Image.open(\"fox.png\")\n"
   ]
  },
  {
   "cell_type": "code",
   "execution_count": 4,
   "metadata": {},
   "outputs": [],
   "source": [
    "puntosFondo = np.array([[0,0],[0,0],[0,0],[0,0]],np.int32)\n",
    "puntosImagen = np.array([[0,0],[0,0],[0,0],[0,0]],np.int32)\n",
    "\n",
    "imagenUL = [0,0]\n",
    "imagenUR = [imagen.size[0],0]\n",
    "imagenDL = [0,imagen.size[1]]\n",
    "imagenDR = [imagen.size[0],imagen.size[1]]\n",
    "\n",
    "fondoUL = [1235,85]\n",
    "fondoUR = [1518,17]\n",
    "fondoDL = [1610,361]\n",
    "fondoDR = [1981,222]\n",
    "\n",
    "puntosFondo[0] = fondoUL\n",
    "puntosFondo[1] = fondoUR\n",
    "puntosFondo[2] = fondoDL\n",
    "puntosFondo[3] = fondoDR\n",
    "\n",
    "puntosImagen[0] = imagenUL\n",
    "puntosImagen[1] = imagenUR\n",
    "puntosImagen[2] = imagenDL\n",
    "puntosImagen[3] = imagenDR"
   ]
  },
  {
   "cell_type": "code",
   "execution_count": 5,
   "metadata": {},
   "outputs": [
    {
     "name": "stdout",
     "output_type": "stream",
     "text": [
      "[1235 1518 1981 1610   85   17  222  361]\n",
      "[[      0       0       1       0       0       0       0       0]\n",
      " [    320       0       1       0       0       0 -485760       0]\n",
      " [    320     427       1       0       0       0 -633920 -845887]\n",
      " [      0     427       1       0       0       0       0 -687470]\n",
      " [      0       0       0       0       0       1       0       0]\n",
      " [      0       0       0     320       0       1   -5440       0]\n",
      " [      0       0       0     320     427       1  -71040  -94794]\n",
      " [      0       0       0       0     427       1       0 -154147]]\n"
     ]
    }
   ],
   "source": [
    "resultado = np.array([fondoUL[0], fondoUR[0], fondoDR[0], fondoDL[0], fondoUL[1], fondoUR[1],fondoDR[1],fondoDL[1]])\n",
    "print(resultado)\n",
    "\n",
    "matrix = np.array([[ imagenUL[0], imagenUL[1],  1, 0, 0 ,0, -imagenUL[0]*fondoUL[0], -imagenUL[1]*fondoUL[0]],\n",
    "                    [imagenUR[0], imagenUR[1],  1, 0, 0 ,0, -imagenUR[0]*fondoUR[0], -imagenUR[1]*fondoUR[0]],\n",
    "                    [imagenDR[0], imagenDR[1],  1, 0, 0 ,0, -imagenDR[0]*fondoDR[0], -imagenDR[1]*fondoDR[0]],\n",
    "                    [imagenDL[0], imagenDL[1],  1, 0, 0 ,0, -imagenDL[0]*fondoDL[0], -imagenDL[1]*fondoDL[0]],\n",
    "                    [0, 0 , 0, imagenUL[0], imagenUL[1], 1, -imagenUL[0]*fondoUL[1], -imagenUL[1]*fondoUL[1]],\n",
    "                    [0, 0 , 0, imagenUR[0], imagenUR[1], 1, -imagenUR[0]*fondoUR[1], -imagenUR[1]*fondoUR[1]],\n",
    "                    [0, 0 , 0, imagenDR[0], imagenDR[1], 1, -imagenDR[0]*fondoDR[1], -imagenDR[1]*fondoDR[1]],\n",
    "                    [0, 0 , 0, imagenDL[0], imagenDL[1], 1, -imagenDL[0]*fondoDL[1], -imagenDL[1]*fondoDL[1]]])\n",
    "\n",
    "\n",
    "print(matrix)"
   ]
  },
  {
   "cell_type": "code",
   "execution_count": 6,
   "metadata": {},
   "outputs": [],
   "source": [
    "def transformada (matriz):\n",
    "\n",
    "    filas = len(matriz)\n",
    "    columnas = len(matriz[0])\n",
    "\n",
    "    traspuesta = [[0 for j in range(filas)] for i in range(columnas)]\n",
    "\n",
    "    for i in range(filas):\n",
    "        for j in range(columnas):\n",
    "            traspuesta[j][i] = matriz[i][j]\n",
    "    \n",
    "    # print(\"Matriz:\")\n",
    "    # for fila in matriz:\n",
    "    #     print(fila)\n",
    "    # print(\"Traspuesta:\")\n",
    "    # for fila in traspuesta:\n",
    "    #     print(fila)\n",
    "    \n",
    "    return traspuesta"
   ]
  },
  {
   "cell_type": "code",
   "execution_count": 8,
   "metadata": {},
   "outputs": [],
   "source": [
    "# #realizado por chat\n",
    "# def inversa(matriz):\n",
    "#     # Obtener las dimensiones de la matriz\n",
    "#     n = len(matriz)\n",
    "\n",
    "# # Crear una matriz identidad del mismo tamaño que la matriz original\n",
    "#     identidad = [[0 if j != i else 1 for j in range(n)] for i in range(n)]\n",
    "\n",
    "# # Combinar la matriz original con la matriz identidad\n",
    "#     matriz_extendida = [fila_matriz + fila_identidad for fila_matriz, fila_identidad in zip(matriz, identidad)]\n",
    "\n",
    "# # Eliminación gaussiana\n",
    "#     for i in range(n-1):\n",
    "#     # Dividir la fila actual por el elemento diagonal\n",
    "#         pivote = matriz_extendida[i][i]\n",
    "#         for j in range((2 * n)-1):\n",
    "#             matriz_extendida[i][j] /= pivote\n",
    "#     # Restar la fila actual multiplicada por el elemento debajo del pivote\n",
    "#         for k in range(n):\n",
    "#             if k != i:\n",
    "#                 factor = matriz_extendida[k][i]\n",
    "#                 for j in range(2 * n):\n",
    "#                     matriz_extendida[k][j] -= factor * matriz_extendida[i][j]\n",
    "\n",
    "# # Obtener la matriz inversa\n",
    "#     inversa = [[matriz_extendida[i][j] for j in range(n, 2 * n)] for i in range(n)]\n",
    "\n",
    "# # Imprimir la matriz original y su inversa\n",
    "#     print(\"Matriz original:\")\n",
    "#     for fila in matriz:\n",
    "#         print(fila)\n",
    "#     print(\"Matriz inversa:\")\n",
    "#     for fila in inversa:\n",
    "#      print(fila)\n",
    "\n",
    "#     return inversa\n",
    "\n",
    "# MatInversa = inversa(matrix)"
   ]
  },
  {
   "cell_type": "code",
   "execution_count": 9,
   "metadata": {},
   "outputs": [],
   "source": [
    "def inversa(a, eps=1.0/(10**10)):\n",
    "    \"\"\"Retorna la matriz inversa de a utilizando el método de Gauss-Jordan\"\"\"\n",
    "    n = len(a)\n",
    "    b = [[float(i == j) for i in range(n)] for j in range(n)]\n",
    "    for i in range(n):\n",
    "        # se elige el mejor pivote\n",
    "        max_element = abs(a[i][i])\n",
    "        max_row = i\n",
    "        for k in range(i+1, n):\n",
    "            if abs(a[k][i]) > max_element:\n",
    "                max_element = abs(a[k][i])\n",
    "                max_row = k\n",
    "        if abs(max_element) < eps:\n",
    "            return None\n",
    "        # Intercambia filas\n",
    "        a[i], a[max_row] = a[max_row], a[i]\n",
    "        b[i], b[max_row] = b[max_row], b[i]\n",
    "        # reduce\n",
    "        pivot = a[i][i]\n",
    "        a[i] = [aij / pivot for aij in a[i]]\n",
    "        b[i] = [bij / pivot for bij in b[i]]\n",
    "        for j in range(n):\n",
    "            if j != i:\n",
    "                factor = a[j][i]\n",
    "                a[j] = [aij - factor * a[i][ai] for ai, aij in enumerate(a[j])]\n",
    "                b[j] = [bij - factor * b[i][bi] for bi, bij in enumerate(b[j])]\n",
    "\n",
    "    return b\n",
    "\n",
    "# matrizInversa = gauss_jordan(matrix)\n",
    "# for fila in matrizInversa:\n",
    "#     print(fila)\n",
    "\n",
    "# print(matrizInversa)\n",
    "\n",
    "# inversa = np.linalg.inv(matrix)\n",
    "# print(inversa)"
   ]
  },
  {
   "cell_type": "code",
   "execution_count": 10,
   "metadata": {},
   "outputs": [
    {
     "name": "stdout",
     "output_type": "stream",
     "text": [
      "[1, 0, 0, 0, 0, 0, 0, 0]\n",
      "[0, 1, 0, 0, 0, 0, 0, 0]\n",
      "[0, 0, 1, 0, 0, 0, 0, 0]\n",
      "[0, 0, 0, 1, 0, 0, 0, 0]\n",
      "[0, 0, 0, 0, 1, 0, 0, 0]\n",
      "[0, 0, 0, 0, 0, 1, 0, 0]\n",
      "[0, 0, 0, 0, 0, 0, 1, 0]\n",
      "[0, 0, 0, 0, 0, 0, 0, 1]\n"
     ]
    }
   ],
   "source": [
    "n = len(matrix)\n",
    "# Crear una matriz identidad del mismo tamaño que la matriz original\n",
    "identidad = [[0 if j != i else 1 for j in range(n)] for i in range(n)]\n",
    "\n",
    "for fila in identidad:\n",
    "    print(fila)\n"
   ]
  },
  {
   "cell_type": "code",
   "execution_count": 12,
   "metadata": {},
   "outputs": [],
   "source": [
    "def multiplicar_matrices(matriz1, matriz2):\n",
    "    # Obtener las dimensiones de las matrices\n",
    "    filas_matriz1 = len(matriz1)\n",
    "    columnas_matriz1 = len(matriz1[0])\n",
    "    filas_matriz2 = len(matriz2)\n",
    "    columnas_matriz2 = len(matriz2[0])\n",
    "    \n",
    "    # Verificar si las matrices se pueden multiplicar\n",
    "    if columnas_matriz1 != filas_matriz2:\n",
    "        print(\"No se pueden multiplicar las matrices. La columna de la primera matriz no coincide con la fila de la segunda matriz.\")\n",
    "        return None\n",
    "    \n",
    "    # Crear una matriz vacía para almacenar el resultado de la multiplicación\n",
    "    resultado = []\n",
    "    for i in range(filas_matriz1):\n",
    "        fila_resultado = []\n",
    "        for j in range(columnas_matriz2):\n",
    "            fila_resultado.append(0)\n",
    "        resultado.append(fila_resultado)\n",
    "    \n",
    "    # Calcular el producto de las matrices\n",
    "    for i in range(filas_matriz1):\n",
    "        for j in range(columnas_matriz2):\n",
    "            for k in range(filas_matriz2):\n",
    "                resultado[i][j] += matriz1[i][k] * matriz2[k][j]\n",
    "    \n",
    "    return resultado"
   ]
  },
  {
   "cell_type": "code",
   "execution_count": 13,
   "metadata": {},
   "outputs": [],
   "source": [
    "def multiplicar_matricesF(matriz1, matriz2):\n",
    "    # Obtener las dimensiones de las matrices\n",
    "    filas_matriz1 = len(matriz1)\n",
    "    columnas_matriz1 = len(matriz1[0])\n",
    "    filas_matriz2 = len(matriz2)\n",
    "    columnas_matriz2 = 1\n",
    "    \n",
    "    # Verificar si las matrices se pueden multiplicar\n",
    "    if columnas_matriz1 != filas_matriz2:\n",
    "        print(\"No se pueden multiplicar las matrices. La columna de la primera matriz no coincide con la fila de la segunda matriz.\")\n",
    "        return None\n",
    "    \n",
    "    # Crear una matriz vacía para almacenar el resultado de la multiplicación\n",
    "    resultado = []\n",
    "    for i in range(filas_matriz1):\n",
    "        fila_resultado = []\n",
    "        for j in range(columnas_matriz2):\n",
    "            fila_resultado.append(0)\n",
    "        resultado.append(fila_resultado)\n",
    "    \n",
    "    # Calcular el producto de las matrices\n",
    "    for i in range(filas_matriz1):\n",
    "        for j in range(columnas_matriz2):\n",
    "            for k in range(filas_matriz2):\n",
    "                resultado[i][j] += matriz1[i][k] * matriz2[k][j]\n",
    "    \n",
    "    return resultado"
   ]
  },
  {
   "attachments": {},
   "cell_type": "markdown",
   "metadata": {},
   "source": [
    "a = np.matmul(np.matmul(np.linalg.inv(np.matmul(matrix.transpose(),matrix)),matrix.transpose()), resultado)"
   ]
  },
  {
   "cell_type": "code",
   "execution_count": 14,
   "metadata": {},
   "outputs": [
    {
     "name": "stderr",
     "output_type": "stream",
     "text": [
      "C:\\Users\\nanga\\AppData\\Local\\Temp\\ipykernel_3868\\3675675607.py:25: RuntimeWarning: overflow encountered in scalar multiply\n",
      "  resultado[i][j] += matriz1[i][k] * matriz2[k][j]\n",
      "C:\\Users\\nanga\\AppData\\Local\\Temp\\ipykernel_3868\\3675675607.py:25: RuntimeWarning: overflow encountered in scalar add\n",
      "  resultado[i][j] += matriz1[i][k] * matriz2[k][j]\n"
     ]
    },
    {
     "ename": "IndexError",
     "evalue": "invalid index to scalar variable.",
     "output_type": "error",
     "traceback": [
      "\u001b[1;31m---------------------------------------------------------------------------\u001b[0m",
      "\u001b[1;31mIndexError\u001b[0m                                Traceback (most recent call last)",
      "Cell \u001b[1;32mIn[14], line 4\u001b[0m\n\u001b[0;32m      2\u001b[0m primeraP \u001b[39m=\u001b[39m multiplicar_matrices(matrix,transformada(matrix))\n\u001b[0;32m      3\u001b[0m segundaP \u001b[39m=\u001b[39m multiplicar_matrices(inversa(primeraP),transformada(matrix))\n\u001b[1;32m----> 4\u001b[0m final \u001b[39m=\u001b[39m multiplicar_matricesF(segundaP,resultado)\n\u001b[0;32m      6\u001b[0m \u001b[39mprint\u001b[39m(final)\n",
      "Cell \u001b[1;32mIn[13], line 25\u001b[0m, in \u001b[0;36mmultiplicar_matricesF\u001b[1;34m(matriz1, matriz2)\u001b[0m\n\u001b[0;32m     23\u001b[0m     \u001b[39mfor\u001b[39;00m j \u001b[39min\u001b[39;00m \u001b[39mrange\u001b[39m(columnas_matriz2):\n\u001b[0;32m     24\u001b[0m         \u001b[39mfor\u001b[39;00m k \u001b[39min\u001b[39;00m \u001b[39mrange\u001b[39m(filas_matriz2):\n\u001b[1;32m---> 25\u001b[0m             resultado[i][j] \u001b[39m+\u001b[39m\u001b[39m=\u001b[39m matriz1[i][k] \u001b[39m*\u001b[39m matriz2[k][j]\n\u001b[0;32m     27\u001b[0m \u001b[39mreturn\u001b[39;00m resultado\n",
      "\u001b[1;31mIndexError\u001b[0m: invalid index to scalar variable."
     ]
    }
   ],
   "source": [
    "resultado = np.array([fondoUL[0], fondoUR[0], fondoDR[0], fondoDL[0], fondoUL[1], fondoUR[1],fondoDR[1],fondoDL[1]])\n",
    "primeraP = multiplicar_matrices(matrix,transformada(matrix))\n",
    "segundaP = multiplicar_matrices(inversa(primeraP),transformada(matrix))\n",
    "final = multiplicar_matricesF(segundaP,resultado)\n",
    "\n",
    "print(final)"
   ]
  }
 ],
 "metadata": {
  "kernelspec": {
   "display_name": "Python 3",
   "language": "python",
   "name": "python3"
  },
  "language_info": {
   "codemirror_mode": {
    "name": "ipython",
    "version": 3
   },
   "file_extension": ".py",
   "mimetype": "text/x-python",
   "name": "python",
   "nbconvert_exporter": "python",
   "pygments_lexer": "ipython3",
   "version": "3.11.2"
  },
  "orig_nbformat": 4
 },
 "nbformat": 4,
 "nbformat_minor": 2
}
