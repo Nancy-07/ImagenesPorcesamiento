{
 "cells": [
  {
   "cell_type": "code",
   "execution_count": null,
   "metadata": {
    "collapsed": true
   },
   "outputs": [],
   "source": [
    "import numpy as np\n",
    "from PIL import Image\n",
    "\n",
    "img = np.array(Image.open(\"img.jpeg\"))\n",
    "\n",
    "mascara = np.array([[1, 1, 1], \n",
    "                    [1, 1, 1], \n",
    "                    [1, 1, 1]])\n",
    "\n",
    "mascara = mascara / 25 #normalización de la mascara\n",
    "\n",
    "filas,columnas,canales = img.shape# obtención de los tamaños de las imagenes \n",
    "mascaraf = 3\n",
    "mascaraC = 3\n",
    "bordeH = 2\n",
    "bordeA = 2\n",
    "matrizF = np.zeros((filas + (mascaraf-1), columnas + (mascaraC-1),canales))#matriz mas grande para eviatar el desbordamiento\n",
    "\n",
    "matrizF[bordeH:filas+bordeH, bordeA:columnas+bordeA] = img # se copia la imagen \n",
    "\n",
    "matrizfinal = np.zeros_like(img)# se genera la matriz en donde se almacenan los datos \n",
    "\n",
    "for i in range(bordeH, filas + bordeH):\n",
    "    for j in range(bordeA, columnas + bordeA):\n",
    "        matrizfinal[i-bordeH, j-bordeA, 0] = np.sum(mascara * matrizF[i-bordeH:i+bordeH+1, j-bordeA:j+bordeA+1, 0])\n",
    "        matrizfinal[i-bordeH, j-bordeA, 1] = np.sum(mascara * matrizF[i-bordeH:i+bordeH+1, j-bordeA:j+bordeA+1, 1])\n",
    "        matrizfinal[i-bordeH, j-bordeA, 2] = np.sum(mascara * matrizF[i-bordeH:i+bordeH+1, j-bordeA:j+bordeA+1, 2])\n",
    "\n",
    "#se imprime la imagen\n",
    "Aimg = Image.fromarray(matrizfinal)\n",
    "Aimg.show()"
   ]
  }
 ],
 "metadata": {
  "kernelspec": {
   "display_name": "venv",
   "language": "python",
   "name": "python3"
  },
  "language_info": {
   "codemirror_mode": {
    "name": "ipython",
    "version": 3
   },
   "file_extension": ".py",
   "mimetype": "text/x-python",
   "name": "python",
   "nbconvert_exporter": "python",
   "pygments_lexer": "ipython3",
   "version": "3.11.2"
  },
  "mascaraspec": {
   "display_name": "Python 3",
   "language": "python",
   "name": "python3"
  },
  "vscode": {
   "interpreter": {
    "hash": "9e21fbc236b3f912377ec33909ce960bf2bcaf7534f3ed463535a32edfeafd5d"
   }
  }
 },
 "nbformat": 4,
 "nbformat_minor": 0
}
